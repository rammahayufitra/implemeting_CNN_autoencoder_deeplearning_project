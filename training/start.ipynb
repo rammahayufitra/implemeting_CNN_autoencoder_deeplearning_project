{
 "cells": [
  {
   "cell_type": "code",
   "execution_count": 12,
   "metadata": {},
   "outputs": [],
   "source": [
    "from torch_snippets import * \n",
    "from torchvision.datasets import MNIST \n",
    "from torchvision import transforms \n",
    "device = 'cuda' if torch.cuda.is_available () else 'cpu'\n",
    "img_transform = transforms.Compose([\n",
    "    transforms.ToTensor(), \n",
    "    transforms.Normalize([0.5],[0.5]), \n",
    "    transforms.Lambda(lambda x: x.to(device))\n",
    "])\n",
    "\n",
    "trn_ds = MNIST('../public/data/', transform=img_transform, train=True, download=True)\n",
    "val_ds = MNIST('../public/data/', transform=img_transform, train=False, download=True)\n",
    "\n",
    "batch_size = 128\n",
    "trn_dl = DataLoader(trn_ds, batch_size=batch_size, shuffle=True)\n",
    "val_dl = DataLoader(val_ds, batch_size=batch_size, shuffle=False)\n"
   ]
  },
  {
   "cell_type": "code",
   "execution_count": 13,
   "metadata": {},
   "outputs": [],
   "source": [
    "from turtle import forward\n",
    "\n",
    "\n",
    "class ConvAutoEncoder(nn.Module):\n",
    "    def __init__(self):\n",
    "        super().__init__()\n",
    "\n",
    "        self.encoder = nn.Sequential(\n",
    "            nn.Conv2d(1,32,3,stride=3, padding=1),\n",
    "            nn.ReLU(True),\n",
    "            nn.MaxPool2d(2,stride=2), \n",
    "            nn.Conv2d(32,64,3, stride=2, padding=1),\n",
    "            nn.ReLU(True), \n",
    "            nn.MaxPool2d(2,stride=1)\n",
    "        )\n",
    "\n",
    "        self.decoder = nn.Sequential(\n",
    "            nn.ConvTranspose2d(64,32,3,stride=2), \n",
    "            nn.ReLU(True), \n",
    "            nn.ConvTranspose2d(32,16,5,stride=3, padding=1),\n",
    "            nn.ReLU(True), \n",
    "            nn.ConvTranspose2d(16,1,2,stride=2, padding=1), \n",
    "            nn.Tanh()\n",
    "        )\n",
    "\n",
    "    def forward(self,x):\n",
    "        x = self.encoder(x)\n",
    "        x = self.decoder(x)\n",
    "        return x "
   ]
  },
  {
   "cell_type": "code",
   "execution_count": 14,
   "metadata": {},
   "outputs": [
    {
     "name": "stdout",
     "output_type": "stream",
     "text": [
      "==========================================================================================\n",
      "Layer (type:depth-idx)                   Output Shape              Param #\n",
      "==========================================================================================\n",
      "├─Sequential: 1-1                        [-1, 64, 2, 2]            --\n",
      "|    └─Conv2d: 2-1                       [-1, 32, 10, 10]          320\n",
      "|    └─ReLU: 2-2                         [-1, 32, 10, 10]          --\n",
      "|    └─MaxPool2d: 2-3                    [-1, 32, 5, 5]            --\n",
      "|    └─Conv2d: 2-4                       [-1, 64, 3, 3]            18,496\n",
      "|    └─ReLU: 2-5                         [-1, 64, 3, 3]            --\n",
      "|    └─MaxPool2d: 2-6                    [-1, 64, 2, 2]            --\n",
      "├─Sequential: 1-2                        [-1, 1, 28, 28]           --\n",
      "|    └─ConvTranspose2d: 2-7              [-1, 32, 5, 5]            18,464\n",
      "|    └─ReLU: 2-8                         [-1, 32, 5, 5]            --\n",
      "|    └─ConvTranspose2d: 2-9              [-1, 16, 15, 15]          12,816\n",
      "|    └─ReLU: 2-10                        [-1, 16, 15, 15]          --\n",
      "|    └─ConvTranspose2d: 2-11             [-1, 1, 28, 28]           65\n",
      "|    └─Tanh: 2-12                        [-1, 1, 28, 28]           --\n",
      "==========================================================================================\n",
      "Total params: 50,161\n",
      "Trainable params: 50,161\n",
      "Non-trainable params: 0\n",
      "Total mult-adds (M): 3.64\n",
      "==========================================================================================\n",
      "Input size (MB): 0.01\n",
      "Forward/backward pass size (MB): 0.07\n",
      "Params size (MB): 0.19\n",
      "Estimated Total Size (MB): 0.27\n",
      "==========================================================================================\n"
     ]
    }
   ],
   "source": [
    "model = ConvAutoEncoder().to(device)\n",
    "from torchsummary import summary\n",
    "summary(model, torch.zeros(2,1,28,28));"
   ]
  },
  {
   "cell_type": "code",
   "execution_count": 15,
   "metadata": {},
   "outputs": [
    {
     "name": "stdout",
     "output_type": "stream",
     "text": [
      "EPOCH: 1.000\ttrn_loss: 0.172\tval_loss: 0.092\t(19.70s - 78.81s remaining)\n",
      "EPOCH: 2.000\ttrn_loss: 0.083\tval_loss: 0.072\t(38.25s - 57.38s remaining)\n",
      "EPOCH: 3.000\ttrn_loss: 0.070\tval_loss: 0.064\t(56.84s - 37.90s remaining)\n",
      "EPOCH: 4.000\ttrn_loss: 0.063\tval_loss: 0.059\t(75.58s - 18.90s remaining)\n",
      "EPOCH: 5.000\ttrn_loss: 0.059\tval_loss: 0.056\t(94.23s - 0.00s remaining)\n"
     ]
    }
   ],
   "source": [
    "def train_batch(input, model, criterion, optimizer):\n",
    "    model.train()\n",
    "    optimizer.zero_grad()\n",
    "    output = model(input)\n",
    "    loss = criterion(output, input)\n",
    "    loss.backward()\n",
    "    optimizer.step()\n",
    "    return loss\n",
    "\n",
    "@torch.no_grad()\n",
    "def validate_batch(input, model, criterion):\n",
    "    model.eval()\n",
    "    output = model(input)\n",
    "    loss = criterion(output, input)\n",
    "    return loss\n",
    "\n",
    "model = ConvAutoEncoder().to(device)\n",
    "criterion = nn.MSELoss()\n",
    "optimizer = torch.optim.AdamW(model.parameters(), lr=0.001, weight_decay=1e-5)\n",
    "\n",
    "num_epochs = 5\n",
    "log = Report(num_epochs)\n",
    "\n",
    "for epoch in range(num_epochs):\n",
    "    N = len(trn_dl)\n",
    "    for ix, (data, _) in enumerate(trn_dl):\n",
    "        loss = train_batch(data, model, criterion, optimizer)\n",
    "        log.record(pos=(epoch + (ix+1)/N), trn_loss=loss, end='\\r')\n",
    "        \n",
    "    N = len(val_dl)\n",
    "    for ix, (data, _) in enumerate(val_dl):\n",
    "        loss = validate_batch(data, model, criterion)\n",
    "        log.record(pos=(epoch + (ix+1)/N), val_loss=loss, end='\\r')\n",
    "        \n",
    "    log.report_avgs(epoch+1)\n"
   ]
  },
  {
   "cell_type": "code",
   "execution_count": 16,
   "metadata": {},
   "outputs": [
    {
     "data": {
      "image/png": "[encoded data removed]",
      "text/plain": [
       "<Figure size 216x216 with 2 Axes>"
      ]
     },
     "metadata": {
      "needs_background": "light"
     },
     "output_type": "display_data"
    },
    {
     "data": {
      "image/png": "[encoded data removed]",
      "text/plain": [
       "<Figure size 216x216 with 2 Axes>"
      ]
     },
     "metadata": {
      "needs_background": "light"
     },
     "output_type": "display_data"
    },
    {
     "data": {
      "image/png": "[encoded data removed]",
      "text/plain": [
       "<Figure size 216x216 with 2 Axes>"
      ]
     },
     "metadata": {
      "needs_background": "light"
     },
     "output_type": "display_data"
    }
   ],
   "source": [
    "for _ in range(3):\n",
    "    ix = np.random.randint(len(val_ds))\n",
    "    im, _ = val_ds[ix]\n",
    "    _im = model(im[None])[0]\n",
    "    fig, ax = plt.subplots(1, 2, figsize=(3,3))\n",
    "    show(im[0], ax=ax[0], title='input')\n",
    "    show(_im[0], ax=ax[1], title='prediction')\n",
    "    plt.tight_layout()\n",
    "    plt.show()\n",
    "\n"
   ]
  },
  {
   "cell_type": "code",
   "execution_count": 17,
   "metadata": {},
   "outputs": [],
   "source": [
    "# define path2weights\n",
    "path2weights=\"../public/weights/weights.pt\"\n",
    "# store state_dict to file\n",
    "torch.save(model.state_dict(), path2weights)\n",
    "# define model: weights are randomly initiated\n",
    "_model = model\n",
    "weights=torch.load(path2weights)\n",
    "_model.load_state_dict(weights)\n",
    "\n",
    "# define a path2model\n",
    "path2model=\"../public/models/model.pt\"\n",
    "# store model and weights into a file\n",
    "torch.save(model,path2model)\n",
    "# define model: weights are randomly initiated\n",
    "_model = model\n",
    "_model=torch.load(path2model)"
   ]
  }
 ],
 "metadata": {
  "kernelspec": {
   "display_name": "Python 3.8.10 64-bit",
   "language": "python",
   "name": "python3"
  },
  "language_info": {
   "codemirror_mode": {
    "name": "ipython",
    "version": 3
   },
   "file_extension": ".py",
   "mimetype": "text/x-python",
   "name": "python",
   "nbconvert_exporter": "python",
   "pygments_lexer": "ipython3",
   "version": "3.8.10"
  },
  "orig_nbformat": 4,
  "vscode": {
   "interpreter": {
    "hash": "916dbcbb3f70747c44a77c7bcd40155683ae19c65e1c03b4aa3499c5328201f1"
   }
  }
 },
 "nbformat": 4,
 "nbformat_minor": 2
}
