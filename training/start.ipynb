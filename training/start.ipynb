{
 "cells": [
  {
   "cell_type": "code",
   "execution_count": 1,
   "metadata": {},
   "outputs": [
    {
     "name": "stderr",
     "output_type": "stream",
     "text": [
      "/home/delameta/.local/lib/python3.8/site-packages/tqdm/auto.py:22: TqdmWarning: IProgress not found. Please update jupyter and ipywidgets. See https://ipywidgets.readthedocs.io/en/stable/user_install.html\n",
      "  from .autonotebook import tqdm as notebook_tqdm\n"
     ]
    },
    {
     "ename": "AttributeError",
     "evalue": "module 'torch' has no attribute 'is_available'",
     "output_type": "error",
     "traceback": [
      "\u001b[0;31m---------------------------------------------------------------------------\u001b[0m",
      "\u001b[0;31mAttributeError\u001b[0m                            Traceback (most recent call last)",
      "\u001b[1;32m/home/delameta/ramma/NoteRM/implemeting_CNN_autoencoder_deeplearning_project/training/start.ipynb Cell 1'\u001b[0m in \u001b[0;36m<cell line: 4>\u001b[0;34m()\u001b[0m\n\u001b[1;32m      <a href='vscode-notebook-cell:/home/delameta/ramma/NoteRM/implemeting_CNN_autoencoder_deeplearning_project/training/start.ipynb#ch0000000?line=1'>2</a>\u001b[0m \u001b[39mfrom\u001b[39;00m \u001b[39mtorchvision\u001b[39;00m\u001b[39m.\u001b[39;00m\u001b[39mdatasets\u001b[39;00m \u001b[39mimport\u001b[39;00m MNIST \n\u001b[1;32m      <a href='vscode-notebook-cell:/home/delameta/ramma/NoteRM/implemeting_CNN_autoencoder_deeplearning_project/training/start.ipynb#ch0000000?line=2'>3</a>\u001b[0m \u001b[39mfrom\u001b[39;00m \u001b[39mtorchvision\u001b[39;00m \u001b[39mimport\u001b[39;00m transforms \n\u001b[0;32m----> <a href='vscode-notebook-cell:/home/delameta/ramma/NoteRM/implemeting_CNN_autoencoder_deeplearning_project/training/start.ipynb#ch0000000?line=3'>4</a>\u001b[0m device \u001b[39m=\u001b[39m \u001b[39m'\u001b[39m\u001b[39mcuda\u001b[39m\u001b[39m'\u001b[39m \u001b[39mif\u001b[39;00m torch\u001b[39m.\u001b[39;49mis_available () \u001b[39melse\u001b[39;00m \u001b[39m'\u001b[39m\u001b[39mcpu\u001b[39m\u001b[39m'\u001b[39m\n\u001b[1;32m      <a href='vscode-notebook-cell:/home/delameta/ramma/NoteRM/implemeting_CNN_autoencoder_deeplearning_project/training/start.ipynb#ch0000000?line=4'>5</a>\u001b[0m img_transform \u001b[39m=\u001b[39m transforms\u001b[39m.\u001b[39mCompose([\n\u001b[1;32m      <a href='vscode-notebook-cell:/home/delameta/ramma/NoteRM/implemeting_CNN_autoencoder_deeplearning_project/training/start.ipynb#ch0000000?line=5'>6</a>\u001b[0m     transforms\u001b[39m.\u001b[39mToTensor(), \n\u001b[1;32m      <a href='vscode-notebook-cell:/home/delameta/ramma/NoteRM/implemeting_CNN_autoencoder_deeplearning_project/training/start.ipynb#ch0000000?line=6'>7</a>\u001b[0m     transforms\u001b[39m.\u001b[39mNormalize([\u001b[39m0.5\u001b[39m],[\u001b[39m0.5\u001b[39m]), \n\u001b[1;32m      <a href='vscode-notebook-cell:/home/delameta/ramma/NoteRM/implemeting_CNN_autoencoder_deeplearning_project/training/start.ipynb#ch0000000?line=7'>8</a>\u001b[0m     transforms\u001b[39m.\u001b[39mLambda(\u001b[39mlambda\u001b[39;00m x: x\u001b[39m.\u001b[39mto(device))\n\u001b[1;32m      <a href='vscode-notebook-cell:/home/delameta/ramma/NoteRM/implemeting_CNN_autoencoder_deeplearning_project/training/start.ipynb#ch0000000?line=8'>9</a>\u001b[0m ])\n\u001b[1;32m     <a href='vscode-notebook-cell:/home/delameta/ramma/NoteRM/implemeting_CNN_autoencoder_deeplearning_project/training/start.ipynb#ch0000000?line=10'>11</a>\u001b[0m trn_ds \u001b[39m=\u001b[39m MNIST(\u001b[39m'\u001b[39m\u001b[39m../public/data/\u001b[39m\u001b[39m'\u001b[39m, transform\u001b[39m=\u001b[39mimg_transform, train\u001b[39m=\u001b[39m\u001b[39mTrue\u001b[39;00m, download\u001b[39m=\u001b[39m\u001b[39mTrue\u001b[39;00m)\n",
      "\u001b[0;31mAttributeError\u001b[0m: module 'torch' has no attribute 'is_available'"
     ]
    }
   ],
   "source": [
    "from torch_snippets import * \n",
    "from torchvision.datasets import MNIST \n",
    "from torchvision import transforms \n",
    "device = 'cuda' if torch.cuda.is_available () else 'cpu'\n",
    "img_transform = transforms.Compose([\n",
    "    transforms.ToTensor(), \n",
    "    transforms.Normalize([0.5],[0.5]), \n",
    "    transforms.Lambda(lambda x: x.to(device))\n",
    "])\n",
    "\n",
    "trn_ds = MNIST('../public/data/', transform=img_transform, train=True, download=True)\n",
    "val_ds = MNIST('../public/data/', transform=img_transform, train=False, download=True)\n",
    "\n",
    "batch_size = 128\n",
    "trn_dl = DataLoader(trn_ds, batch_size=batch_size, shuffle=True)\n",
    "val_dl = DataLoader(val_ds, batch_size=batch_size, shuffle=False)\n"
   ]
  }
 ],
 "metadata": {
  "kernelspec": {
   "display_name": "Python 3.8.10 64-bit",
   "language": "python",
   "name": "python3"
  },
  "language_info": {
   "codemirror_mode": {
    "name": "ipython",
    "version": 3
   },
   "file_extension": ".py",
   "mimetype": "text/x-python",
   "name": "python",
   "nbconvert_exporter": "python",
   "pygments_lexer": "ipython3",
   "version": "3.8.10"
  },
  "orig_nbformat": 4,
  "vscode": {
   "interpreter": {
    "hash": "916dbcbb3f70747c44a77c7bcd40155683ae19c65e1c03b4aa3499c5328201f1"
   }
  }
 },
 "nbformat": 4,
 "nbformat_minor": 2
}
